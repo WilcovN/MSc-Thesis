{
 "cells": [
  {
   "cell_type": "markdown",
   "metadata": {},
   "source": [
    "# Random tagging coordinate generator\n",
    "This jupyter notebook is meant to generate the coordinates of each cell of your image in a folder and then adjust the results and randomly pick the X ammount of cells you want to tag\n",
    "You need to run all the cells in order from top to bottom, there is one cell with variables that you can change for different results"
   ]
  },
  {
   "cell_type": "code",
   "execution_count": 2,
   "metadata": {},
   "outputs": [
    {
     "data": {
      "text/plain": [
       "[]"
      ]
     },
     "execution_count": 2,
     "metadata": {},
     "output_type": "execute_result"
    }
   ],
   "source": [
    "# Import cell, on the \"normal\" EMC PC's this takes 1-2 minutes\n",
    "from stardist.models import StarDist2D\n",
    "from stardist.data import test_image_nuclei_2d\n",
    "from stardist.plot import render_label\n",
    "from csbdeep.utils import normalize\n",
    "from matplotlib import image\n",
    "\n",
    "import numpy as np\n",
    "from tifffile import imsave\n",
    "import matplotlib.pyplot as plt\n",
    "import time\n",
    "import cv2\n",
    "import os\n",
    "import glob\n",
    "import tensorflow as tf\n",
    "from tensorflow.python.client import device_lib\n",
    "\n",
    "# Test if GPU is available the code below is 2 ways to check if the CPU is available if the list is empty or the other line prints False your GPU is not available\n",
    "os.environ[\"CUDA_VISIBLE_DEVICES\"] = '1'\n",
    "\n",
    "#tf.test.is_gpu_available(cuda_only=True, min_cuda_compute_capability=(7,0))\n",
    "tf.config.list_physical_devices('GPU')\n",
    "\n",
    "# run this command if ImportError: DLL load failed: The specified module could not be found. for opencv\n",
    "# pip install opencv-contrib-python"
   ]
  },
  {
   "cell_type": "markdown",
   "metadata": {},
   "source": [
    "Here you put in the variables that need to change for each use"
   ]
  },
  {
   "cell_type": "code",
   "execution_count": 6,
   "metadata": {},
   "outputs": [],
   "source": [
    "# The path to the folder with each snapshot that you want to segment and get random coordinates, example below this line\n",
    "# path =r'\\\\store\\department\\gene\\chien_data\\Lab\\Data_and_Analysis\\Wilco van Nes\\Code_testing\\Test_snapshots'\n",
    "path =r'\\\\store\\department\\gene\\chien_data\\Lab\\Data_and_Analysis\\Wilco van Nes\\Code_testing\\Test_snapshots'\n",
    "\n",
    "#location to the path where the images are saved\n",
    "path1 = path + '\\\\ImgGS';\n",
    "\n",
    "if not os.path.isdir(path1):\n",
    "    os.mkdir(path1)\n",
    "\n",
    "# Amount of random cells you want to tag per ROI\n",
    "Random_cell_tag = 100"
   ]
  },
  {
   "cell_type": "code",
   "execution_count": null,
   "metadata": {},
   "outputs": [
    {
     "name": "stdout",
     "output_type": "stream",
     "text": [
      "There are 4 registered models for 'StarDist2D':\n",
      "\n",
      "Name                  Alias(es)\n",
      "────                  ─────────\n",
      "'2D_versatile_fluo'   'Versatile (fluorescent nuclei)'\n",
      "'2D_versatile_he'     'Versatile (H&E nuclei)'\n",
      "'2D_paper_dsb2018'    'DSB 2018 (from StarDist 2D paper)'\n",
      "'2D_demo'             None\n",
      "Found model '2D_versatile_fluo' for 'StarDist2D'.\n",
      "Loading network weights from 'weights_best.h5'.\n",
      "Loading thresholds from 'thresholds.json'.\n",
      "Using default values: prob_thresh=0.479071, nms_thresh=0.3.\n"
     ]
    },
    {
     "ename": "IndexError",
     "evalue": "list index out of range",
     "output_type": "error",
     "traceback": [
      "\u001b[1;31m---------------------------------------------------------------------------\u001b[0m",
      "\u001b[1;31mIndexError\u001b[0m                                Traceback (most recent call last)",
      "\u001b[1;32m~\\AppData\\Local\\Temp\\ipykernel_2064\\2955700903.py\u001b[0m in \u001b[0;36m<module>\u001b[1;34m\u001b[0m\n\u001b[0;32m      6\u001b[0m \u001b[1;33m\u001b[0m\u001b[0m\n\u001b[0;32m      7\u001b[0m \u001b[0ma\u001b[0m \u001b[1;33m=\u001b[0m \u001b[0mglob\u001b[0m\u001b[1;33m.\u001b[0m\u001b[0mglob\u001b[0m\u001b[1;33m(\u001b[0m\u001b[0mpath1\u001b[0m \u001b[1;33m+\u001b[0m \u001b[1;34m\"\\\\*.tif\"\u001b[0m\u001b[1;33m)\u001b[0m\u001b[1;33m\u001b[0m\u001b[1;33m\u001b[0m\u001b[0m\n\u001b[1;32m----> 8\u001b[1;33m \u001b[0mstr\u001b[0m \u001b[1;33m=\u001b[0m \u001b[0ma\u001b[0m\u001b[1;33m[\u001b[0m\u001b[1;36m0\u001b[0m\u001b[1;33m]\u001b[0m\u001b[1;33m.\u001b[0m\u001b[0msplit\u001b[0m\u001b[1;33m(\u001b[0m\u001b[0mpath1\u001b[0m\u001b[1;33m)\u001b[0m\u001b[1;33m\u001b[0m\u001b[1;33m\u001b[0m\u001b[0m\n\u001b[0m\u001b[0;32m      9\u001b[0m \u001b[0mstr\u001b[0m \u001b[1;33m=\u001b[0m \u001b[0mstr\u001b[0m\u001b[1;33m[\u001b[0m\u001b[1;36m1\u001b[0m\u001b[1;33m]\u001b[0m\u001b[1;33m\u001b[0m\u001b[1;33m\u001b[0m\u001b[0m\n\u001b[0;32m     10\u001b[0m \u001b[0mstr\u001b[0m \u001b[1;33m=\u001b[0m \u001b[0mstr\u001b[0m\u001b[1;33m.\u001b[0m\u001b[0msplit\u001b[0m\u001b[1;33m(\u001b[0m\u001b[1;34m'\\\\'\u001b[0m\u001b[1;33m)\u001b[0m\u001b[1;33m\u001b[0m\u001b[1;33m\u001b[0m\u001b[0m\n",
      "\u001b[1;31mIndexError\u001b[0m: list index out of range"
     ]
    }
   ],
   "source": [
    "from stardist.models import StarDist2D \n",
    "# prints a list of available models \n",
    "StarDist2D.from_pretrained() \n",
    "# creates a pretrained model\n",
    "model = StarDist2D.from_pretrained('2D_versatile_fluo')\n"
   ]
  },
  {
   "cell_type": "code",
   "execution_count": 2,
   "metadata": {},
   "outputs": [
    {
     "ename": "SyntaxError",
     "evalue": "EOL while scanning string literal (1227559092.py, line 4)",
     "output_type": "error",
     "traceback": [
      "\u001b[1;36m  File \u001b[1;32m\"C:\\Users\\106682\\AppData\\Local\\Temp\\ipykernel_18700\\1227559092.py\"\u001b[1;36m, line \u001b[1;32m4\u001b[0m\n\u001b[1;33m    str = str.split(r'\\')\u001b[0m\n\u001b[1;37m                         ^\u001b[0m\n\u001b[1;31mSyntaxError\u001b[0m\u001b[1;31m:\u001b[0m EOL while scanning string literal\n"
     ]
    }
   ],
   "source": [
    "Tagging_snapshot_list = glob.glob(path + \"\\\\*.tif\")\n",
    "str = Tagging_snapshot_list[0].split(path)\n",
    "str = str[1]\n",
    "str = str.split('\\\\')\n",
    "\n",
    "str = str[1]\n",
    "\n",
    "b = str\n",
    "b = b.split('.')\n",
    "b = b[0]\n",
    "b = b.split('ROI');\n",
    "b = b[1]\n",
    "\n",
    "numDigits = len(b)\n",
    "\n",
    "str = str.split('frame')\n",
    "str = str[0] + 'frame'\n",
    "image_prefix = str\n",
    "\n",
    "print(\"Image prefix is \" + path1 + \"\\\\\" + image_prefix)"
   ]
  },
  {
   "cell_type": "code",
   "execution_count": 20,
   "metadata": {},
   "outputs": [
    {
     "ename": "KeyboardInterrupt",
     "evalue": "",
     "output_type": "error",
     "traceback": [
      "\u001b[1;31m---------------------------------------------------------------------------\u001b[0m",
      "\u001b[1;31mKeyboardInterrupt\u001b[0m                         Traceback (most recent call last)",
      "\u001b[1;32m~\\AppData\\Local\\Temp\\ipykernel_2064\\3757317816.py\u001b[0m in \u001b[0;36m<module>\u001b[1;34m\u001b[0m\n\u001b[0;32m     15\u001b[0m \u001b[1;33m\u001b[0m\u001b[0m\n\u001b[0;32m     16\u001b[0m         \u001b[1;32mwhile\u001b[0m \u001b[1;32mnot\u001b[0m \u001b[0misImgExist\u001b[0m\u001b[1;33m:\u001b[0m\u001b[1;33m\u001b[0m\u001b[1;33m\u001b[0m\u001b[0m\n\u001b[1;32m---> 17\u001b[1;33m             \u001b[0mtime\u001b[0m\u001b[1;33m.\u001b[0m\u001b[0msleep\u001b[0m\u001b[1;33m(\u001b[0m\u001b[1;36m10\u001b[0m\u001b[1;33m)\u001b[0m\u001b[1;33m\u001b[0m\u001b[1;33m\u001b[0m\u001b[0m\n\u001b[0m\u001b[0;32m     18\u001b[0m             \u001b[0misImgExist\u001b[0m \u001b[1;33m=\u001b[0m \u001b[0mos\u001b[0m\u001b[1;33m.\u001b[0m\u001b[0mpath\u001b[0m\u001b[1;33m.\u001b[0m\u001b[0mexists\u001b[0m\u001b[1;33m(\u001b[0m\u001b[0mimgName2\u001b[0m\u001b[1;33m)\u001b[0m\u001b[1;33m\u001b[0m\u001b[1;33m\u001b[0m\u001b[0m\n\u001b[0;32m     19\u001b[0m \u001b[1;33m\u001b[0m\u001b[0m\n",
      "\u001b[1;31mKeyboardInterrupt\u001b[0m: "
     ]
    }
   ],
   "source": [
    "ROIs = range(0, len(Tagging_snapshot_list), 1)\n",
    "\n",
    "t = time.time()\n",
    "\n",
    "for ROI in ROIs:        \n",
    "   \n",
    "        if numDigits > 1:\n",
    "            imgName = (image_prefix + \"_ROI%03d.tif\" % (ROI))\n",
    "        else:\n",
    "            imgName = (image_prefix + \"_ROI%01d.tif\" % (ROI))\n",
    "\n",
    "        imgName2 = (path1+'\\\\'+imgName)\n",
    "\n",
    "        isImgExist = os.path.exists(imgName2)\n",
    "        \n",
    "        while not isImgExist:            \n",
    "            time.sleep(10)\n",
    "            isImgExist = os.path.exists(imgName2)\n",
    "        \n",
    "        print('[Info] ' + imgName +' is generated!'); time.sleep(1)\n",
    "\n",
    "        img = image.imread(path1+'\\\\'+imgName)\n",
    "        img = normalize(img, 1, 99.8, axis=(0, 1))\n",
    "\n",
    "        print('Segmenting ... ' + imgName)\n",
    "        imgHeight, imgWidth = img.shape; \n",
    "        labels, polys = model.predict_instances(img, prob_thresh = 0.015)\n",
    "\n",
    "        centers = polys[\"points\"] #[y, x]\n",
    "        centers2 = centers[:,0]*imgWidth + centers[:,1]  \n",
    "        print('   %d cells found.' % centers2.shape[0])\n",
    "\n",
    "elapsed = time.time() - t; print('Segmenting frame-%05d took %d seconds.' % (frame, elapsed))\n",
    "\n"
   ]
  },
  {
   "cell_type": "code",
   "execution_count": null,
   "metadata": {},
   "outputs": [],
   "source": []
  }
 ],
 "metadata": {
  "kernelspec": {
   "display_name": "csbdeep",
   "language": "python",
   "name": "python3"
  },
  "language_info": {
   "codemirror_mode": {
    "name": "ipython",
    "version": 3
   },
   "file_extension": ".py",
   "mimetype": "text/x-python",
   "name": "python",
   "nbconvert_exporter": "python",
   "pygments_lexer": "ipython3",
   "version": "3.7.1"
  }
 },
 "nbformat": 4,
 "nbformat_minor": 2
}
