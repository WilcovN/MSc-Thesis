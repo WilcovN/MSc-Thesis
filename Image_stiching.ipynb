{
 "cells": [
  {
   "cell_type": "code",
   "execution_count": 5,
   "metadata": {},
   "outputs": [],
   "source": [
    "import numpy as np\n",
    "import cv2\n",
    "import os\n",
    "from glob import glob\n",
    "import matplotlib.pyplot as plt\n",
    "from PIL import Image\n",
    "\n",
    "Image.MAX_IMAGE_PIXELS = None  # Disable decompression bomb check"
   ]
  },
  {
   "cell_type": "code",
   "execution_count": 6,
   "metadata": {},
   "outputs": [
    {
     "ename": "MemoryError",
     "evalue": "Unable to allocate 352. GiB for an array with shape (614400, 614400) and data type uint8",
     "output_type": "error",
     "traceback": [
      "\u001b[1;31m---------------------------------------------------------------------------\u001b[0m",
      "\u001b[1;31mMemoryError\u001b[0m                               Traceback (most recent call last)",
      "\u001b[1;32m~\\AppData\\Local\\Temp\\ipykernel_16532\\1659891738.py\u001b[0m in \u001b[0;36m<module>\u001b[1;34m\u001b[0m\n\u001b[0;32m     21\u001b[0m \u001b[1;33m\u001b[0m\u001b[0m\n\u001b[0;32m     22\u001b[0m \u001b[1;31m# 6. Create an empty canvas for the stitched image (now in uint8)\u001b[0m\u001b[1;33m\u001b[0m\u001b[1;33m\u001b[0m\u001b[1;33m\u001b[0m\u001b[0m\n\u001b[1;32m---> 23\u001b[1;33m \u001b[0mstitched_img\u001b[0m \u001b[1;33m=\u001b[0m \u001b[0mnp\u001b[0m\u001b[1;33m.\u001b[0m\u001b[0mzeros\u001b[0m\u001b[1;33m(\u001b[0m\u001b[1;33m(\u001b[0m\u001b[0mN_rows\u001b[0m \u001b[1;33m*\u001b[0m \u001b[0mimg_h\u001b[0m\u001b[1;33m,\u001b[0m \u001b[0mN_cols\u001b[0m \u001b[1;33m*\u001b[0m \u001b[0mimg_w\u001b[0m\u001b[1;33m)\u001b[0m\u001b[1;33m,\u001b[0m \u001b[0mdtype\u001b[0m\u001b[1;33m=\u001b[0m\u001b[0mnp\u001b[0m\u001b[1;33m.\u001b[0m\u001b[0muint8\u001b[0m\u001b[1;33m)\u001b[0m\u001b[1;33m\u001b[0m\u001b[1;33m\u001b[0m\u001b[0m\n\u001b[0m\u001b[0;32m     24\u001b[0m \u001b[1;33m\u001b[0m\u001b[0m\n\u001b[0;32m     25\u001b[0m \u001b[1;31m# 7. Loop through each image and place it correctly\u001b[0m\u001b[1;33m\u001b[0m\u001b[1;33m\u001b[0m\u001b[1;33m\u001b[0m\u001b[0m\n",
      "\u001b[1;31mMemoryError\u001b[0m: Unable to allocate 352. GiB for an array with shape (614400, 614400) and data type uint8"
     ]
    }
   ],
   "source": [
    "# 1. Define file paths\n",
    "image_folder = r\"\\\\store\\department\\gene\\chien_data\\Lab\\Data_and_Analysis\\Wilco van Nes\\WvN016_546_strategy2_20250308\\test_run_5x5_20250308at095255\\WhiteLight\"\n",
    "roi_file = r\"\\\\store\\department\\gene\\chien_data\\Lab\\Data_and_Analysis\\Wilco van Nes\\WvN016_546_strategy2_20250308\\test_run_5x5_20250308at095255\\ROIs5x5.txt\"\n",
    "\n",
    "# 2. Load ROI coordinates (assumes format: y x)\n",
    "txt = np.loadtxt(roi_file, dtype=int)\n",
    "\n",
    "# 3. Extract unique X and Y positions to determine grid size\n",
    "x_pos = np.unique(txt[:, 1])  # Unique X positions (columns)\n",
    "y_pos = np.unique(txt[:, 0])  # Unique Y positions (rows)\n",
    "\n",
    "N_cols = len(x_pos)  # Number of columns\n",
    "N_rows = len(y_pos)  # Number of rows\n",
    "\n",
    "# 4. Load image file paths and sort them\n",
    "image_files = sorted(glob(os.path.join(image_folder, \"*.tif\")))\n",
    "\n",
    "# 5. Assume all images have the same resolution (e.g., 5120x5120)\n",
    "sample_img = Image.open(image_files[0])  # Use PIL to avoid OpenCV memory errors\n",
    "img_h, img_w = sample_img.size  # Get image dimensions\n",
    "\n",
    "# 6. Create an empty canvas for the stitched image (now in uint8)\n",
    "stitched_img = np.zeros((N_rows * img_h, N_cols * img_w), dtype=np.uint8)\n",
    "\n",
    "# 7. Loop through each image and place it correctly\n",
    "for i in range(len(txt)):\n",
    "    # Load image using PIL to handle large files\n",
    "    img = Image.open(image_files[i])\n",
    "    img = np.array(img, dtype=np.uint16)  # Convert to NumPy array\n",
    "\n",
    "    # Convert 16-bit to 8-bit\n",
    "    img = cv2.convertScaleAbs(img, alpha=(255/65535))\n",
    "\n",
    "    x, y = txt[i, 1], txt[i, 0]  # Get ROI coordinates\n",
    "\n",
    "    idx_x = np.where(x_pos == x)[0][0]  # Find column index\n",
    "    idx_y = np.where(y_pos == y)[0][0]  # Find row index\n",
    "\n",
    "    # 8. Place the image into the correct position in the stitched image\n",
    "    stitched_img[idx_y * img_h : (idx_y + 1) * img_h, idx_x * img_w : (idx_x + 1) * img_w] = img\n",
    "\n",
    "    print(f\"Placed image {i+1}/{len(txt)} at position ({idx_y}, {idx_x})\")\n",
    "\n",
    "# 9. Display the final stitched image\n",
    "plt.imshow(stitched_img, cmap=\"gray\")\n",
    "plt.axis(\"off\")\n",
    "plt.show()\n",
    "\n",
    "# 10. Save the stitched image\n",
    "output_path = r\"\\\\store\\department\\gene\\chien_data\\Lab\\Data_and_Analysis\\Wilco van Nes\\WvN016_546_strategy2_20250308\\test_run_5x5_20250308at095255\\stitched_image_uint8.tif\"\n",
    "cv2.imwrite(output_path, stitched_img)\n",
    "print(f\"Stitched image saved at {output_path}\")"
   ]
  },
  {
   "cell_type": "code",
   "execution_count": null,
   "metadata": {},
   "outputs": [],
   "source": []
  }
 ],
 "metadata": {
  "kernelspec": {
   "display_name": "csbdeep_test",
   "language": "python",
   "name": "python3"
  },
  "language_info": {
   "codemirror_mode": {
    "name": "ipython",
    "version": 3
   },
   "file_extension": ".py",
   "mimetype": "text/x-python",
   "name": "python",
   "nbconvert_exporter": "python",
   "pygments_lexer": "ipython3",
   "version": "3.7.1"
  }
 },
 "nbformat": 4,
 "nbformat_minor": 2
}
