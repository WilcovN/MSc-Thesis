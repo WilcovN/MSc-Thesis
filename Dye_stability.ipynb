{
 "cells": [
  {
   "cell_type": "markdown",
   "metadata": {},
   "source": [
    "# Dye stability \n",
    "This code uses functions from Lars to get the mean intensity per frame/ROI to see the dye stability over time"
   ]
  },
  {
   "cell_type": "code",
   "execution_count": 14,
   "metadata": {},
   "outputs": [],
   "source": [
    "import numpy as np\n",
    "import matplotlib.pyplot as plt\n",
    "import cv2\n",
    "from scipy.ndimage import gaussian_filter, binary_dilation, binary_closing, binary_erosion, binary_opening\n",
    "from copy import deepcopy\n",
    "import gc\n",
    "import math\n",
    "from skimage.draw import circle_perimeter\n",
    "import logging\n",
    "from scipy.signal import fftconvolve\n",
    "\n",
    "import os\n",
    "from glob import glob\n",
    "import re\n",
    "\n",
    "from Lars_image_analysis_functions import detect_blobs, get_mean_intensity_blob"
   ]
  },
  {
   "cell_type": "markdown",
   "metadata": {},
   "source": [
    "Here you put in the variables that need to change for each use"
   ]
  },
  {
   "cell_type": "code",
   "execution_count": 2,
   "metadata": {},
   "outputs": [],
   "source": [
    "# The path to the folder with each channel that you want to measure the mean intensity from\n",
    "path =r'\\\\store\\department\\gene\\chien_data\\Lab\\Data_and_Analysis\\Wilco van Nes\\Code_testing\\Dye_stability_test'\n",
    "\n",
    "#location to the channel you want to use\n",
    "path1 = path + '\\\\637nm'\n",
    "\n",
    "if not os.path.isdir(path1):\n",
    "    os.mkdir(path1)\n",
    "\n",
    "#location to the path where the results are saved\n",
    "path2 = path + '\\\\Mean_intensities';\n",
    "\n",
    "if not os.path.isdir(path2):\n",
    "    os.mkdir(path2)"
   ]
  },
  {
   "cell_type": "code",
   "execution_count": 28,
   "metadata": {},
   "outputs": [
    {
     "name": "stdout",
     "output_type": "stream",
     "text": [
      "['\\\\\\\\store\\\\department\\\\gene\\\\chien_data\\\\Lab\\\\Data_and_Analysis\\\\Wilco van Nes\\\\Code_testing\\\\Dye_stability_test\\\\637nm\\\\Phenotype_48h_30R_2000ms_frame00000_ROI0.tif', '\\\\\\\\store\\\\department\\\\gene\\\\chien_data\\\\Lab\\\\Data_and_Analysis\\\\Wilco van Nes\\\\Code_testing\\\\Dye_stability_test\\\\637nm\\\\Phenotype_48h_30R_2000ms_frame00000_ROI1.tif', '\\\\\\\\store\\\\department\\\\gene\\\\chien_data\\\\Lab\\\\Data_and_Analysis\\\\Wilco van Nes\\\\Code_testing\\\\Dye_stability_test\\\\637nm\\\\Phenotype_48h_30R_2000ms_frame00000_ROI2.tif', '\\\\\\\\store\\\\department\\\\gene\\\\chien_data\\\\Lab\\\\Data_and_Analysis\\\\Wilco van Nes\\\\Code_testing\\\\Dye_stability_test\\\\637nm\\\\Phenotype_48h_30R_2000ms_frame00000_ROI3.tif', '\\\\\\\\store\\\\department\\\\gene\\\\chien_data\\\\Lab\\\\Data_and_Analysis\\\\Wilco van Nes\\\\Code_testing\\\\Dye_stability_test\\\\637nm\\\\Phenotype_48h_30R_2000ms_frame00000_ROI4.tif', '\\\\\\\\store\\\\department\\\\gene\\\\chien_data\\\\Lab\\\\Data_and_Analysis\\\\Wilco van Nes\\\\Code_testing\\\\Dye_stability_test\\\\637nm\\\\Phenotype_48h_30R_2000ms_frame00000_ROI5.tif', '\\\\\\\\store\\\\department\\\\gene\\\\chien_data\\\\Lab\\\\Data_and_Analysis\\\\Wilco van Nes\\\\Code_testing\\\\Dye_stability_test\\\\637nm\\\\Phenotype_48h_30R_2000ms_frame00000_ROI6.tif', '\\\\\\\\store\\\\department\\\\gene\\\\chien_data\\\\Lab\\\\Data_and_Analysis\\\\Wilco van Nes\\\\Code_testing\\\\Dye_stability_test\\\\637nm\\\\Phenotype_48h_30R_2000ms_frame00000_ROI7.tif', '\\\\\\\\store\\\\department\\\\gene\\\\chien_data\\\\Lab\\\\Data_and_Analysis\\\\Wilco van Nes\\\\Code_testing\\\\Dye_stability_test\\\\637nm\\\\Phenotype_48h_30R_2000ms_frame00000_ROI8.tif', '\\\\\\\\store\\\\department\\\\gene\\\\chien_data\\\\Lab\\\\Data_and_Analysis\\\\Wilco van Nes\\\\Code_testing\\\\Dye_stability_test\\\\637nm\\\\Phenotype_48h_30R_2000ms_frame00000_ROI9.tif', '\\\\\\\\store\\\\department\\\\gene\\\\chien_data\\\\Lab\\\\Data_and_Analysis\\\\Wilco van Nes\\\\Code_testing\\\\Dye_stability_test\\\\637nm\\\\Phenotype_48h_30R_2000ms_frame00001_ROI0.tif', '\\\\\\\\store\\\\department\\\\gene\\\\chien_data\\\\Lab\\\\Data_and_Analysis\\\\Wilco van Nes\\\\Code_testing\\\\Dye_stability_test\\\\637nm\\\\Phenotype_48h_30R_2000ms_frame00001_ROI1.tif', '\\\\\\\\store\\\\department\\\\gene\\\\chien_data\\\\Lab\\\\Data_and_Analysis\\\\Wilco van Nes\\\\Code_testing\\\\Dye_stability_test\\\\637nm\\\\Phenotype_48h_30R_2000ms_frame00001_ROI2.tif', '\\\\\\\\store\\\\department\\\\gene\\\\chien_data\\\\Lab\\\\Data_and_Analysis\\\\Wilco van Nes\\\\Code_testing\\\\Dye_stability_test\\\\637nm\\\\Phenotype_48h_30R_2000ms_frame00001_ROI3.tif', '\\\\\\\\store\\\\department\\\\gene\\\\chien_data\\\\Lab\\\\Data_and_Analysis\\\\Wilco van Nes\\\\Code_testing\\\\Dye_stability_test\\\\637nm\\\\Phenotype_48h_30R_2000ms_frame00001_ROI4.tif', '\\\\\\\\store\\\\department\\\\gene\\\\chien_data\\\\Lab\\\\Data_and_Analysis\\\\Wilco van Nes\\\\Code_testing\\\\Dye_stability_test\\\\637nm\\\\Phenotype_48h_30R_2000ms_frame00001_ROI5.tif', '\\\\\\\\store\\\\department\\\\gene\\\\chien_data\\\\Lab\\\\Data_and_Analysis\\\\Wilco van Nes\\\\Code_testing\\\\Dye_stability_test\\\\637nm\\\\Phenotype_48h_30R_2000ms_frame00001_ROI6.tif', '\\\\\\\\store\\\\department\\\\gene\\\\chien_data\\\\Lab\\\\Data_and_Analysis\\\\Wilco van Nes\\\\Code_testing\\\\Dye_stability_test\\\\637nm\\\\Phenotype_48h_30R_2000ms_frame00001_ROI7.tif', '\\\\\\\\store\\\\department\\\\gene\\\\chien_data\\\\Lab\\\\Data_and_Analysis\\\\Wilco van Nes\\\\Code_testing\\\\Dye_stability_test\\\\637nm\\\\Phenotype_48h_30R_2000ms_frame00001_ROI8.tif', '\\\\\\\\store\\\\department\\\\gene\\\\chien_data\\\\Lab\\\\Data_and_Analysis\\\\Wilco van Nes\\\\Code_testing\\\\Dye_stability_test\\\\637nm\\\\Phenotype_48h_30R_2000ms_frame00001_ROI9.tif']\n",
      "20\n",
      "Total number of frames by naming convention: 00001 (So 2 frames total)\n",
      "Total number of ROIs by naming convention: 9 (So 10 ROIs total)\n"
     ]
    }
   ],
   "source": [
    "Timelaps_list = sorted(glob(path1 + \"\\\\*.tif\"))\n",
    "print(Timelaps_list)\n",
    "print(len(Timelaps_list))\n",
    "\n",
    "Timelaps_pattern = re.compile(r'frame(\\d{5})_ROI(\\d+)')\n",
    "\n",
    "last_frame_ROI = Timelaps_list[-1]\n",
    "\n",
    "match = Timelaps_pattern.search(last_frame_ROI)\n",
    "\n",
    "max_frame = int(match.group(1))+1\n",
    "max_ROI = int(match.group(2))+1\n",
    "\n",
    "print(f\"Total number of frames by naming convention: {match.group(1)} (So {max_frame} frames total)\")\n",
    "print(f\"Total number of ROIs by naming convention: {match.group(2)} (So {max_ROI} ROIs total)\")"
   ]
  },
  {
   "cell_type": "code",
   "execution_count": 30,
   "metadata": {},
   "outputs": [
    {
     "name": "stdout",
     "output_type": "stream",
     "text": [
      "0\n",
      "0\n",
      "1\n",
      "2\n",
      "3\n",
      "4\n",
      "5\n",
      "6\n",
      "7\n",
      "8\n",
      "9\n",
      "1\n",
      "0\n",
      "1\n",
      "2\n",
      "3\n",
      "4\n",
      "5\n",
      "6\n",
      "7\n",
      "8\n",
      "9\n"
     ]
    }
   ],
   "source": [
    "for i in range(max_frame):\n",
    "    print(i)\n",
    "    for j in range(max_ROI):\n",
    "        print(j)"
   ]
  },
  {
   "cell_type": "code",
   "execution_count": null,
   "metadata": {},
   "outputs": [],
   "source": []
  }
 ],
 "metadata": {
  "kernelspec": {
   "display_name": "csbdeep",
   "language": "python",
   "name": "python3"
  },
  "language_info": {
   "codemirror_mode": {
    "name": "ipython",
    "version": 3
   },
   "file_extension": ".py",
   "mimetype": "text/x-python",
   "name": "python",
   "nbconvert_exporter": "python",
   "pygments_lexer": "ipython3",
   "version": "3.7.1"
  }
 },
 "nbformat": 4,
 "nbformat_minor": 2
}
