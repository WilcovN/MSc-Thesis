{
 "cells": [
  {
   "cell_type": "markdown",
   "metadata": {},
   "source": [
    "# Strategy 2_segmentation\n"
   ]
  },
  {
   "cell_type": "code",
   "execution_count": 1,
   "metadata": {},
   "outputs": [
    {
     "data": {
      "text/plain": [
       "[]"
      ]
     },
     "execution_count": 1,
     "metadata": {},
     "output_type": "execute_result"
    }
   ],
   "source": [
    "# Import cell, on the \"normal\" EMC PC's this takes 1-2 minutes\n",
    "from stardist.models import StarDist2D\n",
    "from stardist.data import test_image_nuclei_2d\n",
    "from stardist.plot import render_label\n",
    "from csbdeep.utils import normalize\n",
    "from matplotlib import image\n",
    "\n",
    "import numpy as np\n",
    "import matplotlib.pyplot as plt\n",
    "import time\n",
    "import cv2\n",
    "import os\n",
    "import glob\n",
    "import tensorflow as tf\n",
    "from tensorflow.python.client import device_lib\n",
    "\n",
    "# Test if GPU is available the code below is 2 ways to check if the CPU is available if the list is empty or the other line prints False your GPU is not available\n",
    "os.environ[\"CUDA_VISIBLE_DEVICES\"] = '1'\n",
    "\n",
    "#tf.test.is_gpu_available(cuda_only=True, min_cuda_compute_capability=(7,0))\n",
    "tf.config.list_physical_devices('GPU')\n",
    "\n",
    "# run this command if ImportError: DLL load failed: The specified module could not be found. for opencv\n",
    "# pip install opencv-contrib-python"
   ]
  },
  {
   "cell_type": "code",
   "execution_count": 2,
   "metadata": {},
   "outputs": [
    {
     "name": "stdout",
     "output_type": "stream",
     "text": [
      "There are 4 registered models for 'StarDist2D':\n",
      "\n",
      "Name                  Alias(es)\n",
      "────                  ─────────\n",
      "'2D_versatile_fluo'   'Versatile (fluorescent nuclei)'\n",
      "'2D_versatile_he'     'Versatile (H&E nuclei)'\n",
      "'2D_paper_dsb2018'    'DSB 2018 (from StarDist 2D paper)'\n",
      "'2D_demo'             None\n",
      "Found model '2D_versatile_fluo' for 'StarDist2D'.\n",
      "Loading network weights from 'weights_best.h5'.\n",
      "Loading thresholds from 'thresholds.json'.\n",
      "Using default values: prob_thresh=0.479071, nms_thresh=0.3.\n"
     ]
    }
   ],
   "source": [
    "from stardist.models import StarDist2D \n",
    "# prints a list of available models \n",
    "StarDist2D.from_pretrained() \n",
    "# creates a pretrained model\n",
    "model = StarDist2D.from_pretrained('2D_versatile_fluo')"
   ]
  },
  {
   "cell_type": "markdown",
   "metadata": {},
   "source": [
    "## General"
   ]
  },
  {
   "cell_type": "markdown",
   "metadata": {},
   "source": [
    "Here you put in the variables that need to change for each use"
   ]
  },
  {
   "cell_type": "code",
   "execution_count": null,
   "metadata": {},
   "outputs": [],
   "source": [
    "# The path to the folder with each snapshot that you want to segment and get random coordinates, example below this line\n",
    "# path =r'\\\\store\\department\\gene\\chien_data\\Lab\\Data_and_Analysis\\Wilco van Nes\\Code_testing\\Test_snapshots'\n",
    "path =r'\\\\store\\department\\gene\\chien_data\\Lab\\Data_and_Analysis\\Wilco van Nes\\Code_testing\\Test_snapshots'\n",
    "\n",
    "#location to the path where the images are saved\n",
    "# path1 = path + '\\\\460nm';\n",
    "path2 = path + '\\\\637nm';\n",
    "# path3 = path + '\\\\460nm_segm_img_cellpose_d50';\n",
    "path4 = path + '\\\\637nm_segm_img_stardist';\n",
    "path5 = path + '\\\\637nm_segm_img_stardist_csv';\n",
    "\n",
    "# if not os.path.isdir(path1):\n",
    "#     print(\"Where is the blue 460nm channel?\")\n",
    "if not os.path.isdir(path2):\n",
    "    print(\"Where is the red 637nm channel?\")\n",
    "# if not os.path.isdir(path3):\n",
    "#     os.mkdir(path3)\n",
    "if not os.path.isdir(path4):\n",
    "    os.mkdir(path4)\n",
    "if not os.path.isdir(path5):\n",
    "    os.mkdir(path5)\n"
   ]
  },
  {
   "cell_type": "code",
   "execution_count": 3,
   "metadata": {},
   "outputs": [
    {
     "name": "stdout",
     "output_type": "stream",
     "text": [
      "There are 4 registered models for 'StarDist2D':\n",
      "\n",
      "Name                  Alias(es)\n",
      "────                  ─────────\n",
      "'2D_versatile_fluo'   'Versatile (fluorescent nuclei)'\n",
      "'2D_versatile_he'     'Versatile (H&E nuclei)'\n",
      "'2D_paper_dsb2018'    'DSB 2018 (from StarDist 2D paper)'\n",
      "'2D_demo'             None\n",
      "Found model '2D_versatile_fluo' for 'StarDist2D'.\n",
      "Loading network weights from 'weights_best.h5'.\n",
      "Loading thresholds from 'thresholds.json'.\n",
      "Using default values: prob_thresh=0.479071, nms_thresh=0.3.\n"
     ]
    }
   ],
   "source": [
    "from stardist.models import StarDist2D \n",
    "# prints a list of available models \n",
    "StarDist2D.from_pretrained() \n",
    "# creates a pretrained model\n",
    "model = StarDist2D.from_pretrained('2D_versatile_fluo')\n"
   ]
  },
  {
   "cell_type": "code",
   "execution_count": 4,
   "metadata": {},
   "outputs": [
    {
     "name": "stdout",
     "output_type": "stream",
     "text": [
      "Image prefix of channel 637nm is \\\\store\\department\\gene\\chien_data\\Lab\\Data_and_Analysis\\Wilco van Nes\\Code_testing\\Test_snapshots\\637nm\\Phenotype_1h_30R_2000ms_frame\n"
     ]
    }
   ],
   "source": [
    "# Timelaps_path_list_460nm = glob.glob(path1 + \"\\\\*.tif\")\n",
    "Timelaps_path_list_637nm = glob.glob(path2 + \"\\\\*.tif\")\n",
    "\n",
    "# Blue_frame_ROI_name = Timelaps_path_list_460nm[0].split(path1)\n",
    "# Blue_frame_ROI_name = Blue_frame_ROI_name[1]\n",
    "# Blue_frame_ROI_name = Blue_frame_ROI_name.split(\"\\\\\")\n",
    "# Blue_frame_ROI_name = Blue_frame_ROI_name[1]\n",
    "\n",
    "Red_frame_ROI_name =Timelaps_path_list_637nm[0].split(path2)\n",
    "Red_frame_ROI_name = Red_frame_ROI_name[1]\n",
    "Red_frame_ROI_name = Red_frame_ROI_name.split(\"\\\\\")\n",
    "Red_frame_ROI_name = Red_frame_ROI_name[1]\n",
    "# print(Blue_frame_ROI_name)\n",
    "# print(Red_frame_ROI_name)\n",
    "\n",
    "# Blue_ROI_number = Blue_frame_ROI_name\n",
    "# Blue_ROI_number = Blue_ROI_number.split('.')\n",
    "# Blue_ROI_number = Blue_ROI_number[0]\n",
    "# Blue_ROI_number = Blue_ROI_number.split(\"ROI\")\n",
    "# Blue_ROI_number = Blue_ROI_number[1]\n",
    "\n",
    "Red_ROI_number = Red_frame_ROI_name\n",
    "Red_ROI_number = Red_ROI_number.split('.')\n",
    "Red_ROI_number = Red_ROI_number[0]\n",
    "Red_ROI_number = Red_ROI_number.split(\"ROI\")\n",
    "Red_ROI_number = Red_ROI_number[1]\n",
    "# print(Blue_ROI_number)\n",
    "# print(Red_ROI_number)\n",
    "\n",
    "# number_digits_ROIs_blue = len(Blue_ROI_number)\n",
    "number_digits_ROIs_red = len(Red_ROI_number)\n",
    "\n",
    "\n",
    "# if Blue_ROI_number != Red_ROI_number:\n",
    "#     print(f\"Number of ROIs isn't consistent over the channels: 460nm has {Blue_ROI_number}, 637nm has {Red_ROI_number}\")\n",
    "# else:\n",
    "#     print(f\"Number of ROIs is consistent over the channels: 460nm has {Blue_ROI_number} ROI's, 637nm has {Red_ROI_number} ROI's\")\n",
    "\n",
    "# Blue_frame_number = Blue_frame_ROI_name.split(\"frame\")\n",
    "# Blue_frame_number = Blue_frame_number[0] + \"frame\"\n",
    "# image_prefix_blue = Blue_frame_number\n",
    "\n",
    "Red_frame_number = Red_frame_ROI_name.split(\"frame\")\n",
    "Red_frame_number = Red_frame_number[0] + \"frame\"\n",
    "image_prefix_red = Red_frame_number\n",
    "# print(image_prefix_blue)\n",
    "# print(image_prefix_red)\n",
    "\n",
    "# print(\"Image prefix of channel 460nm is \" + path1 + \"\\\\\" + image_prefix_blue)\n",
    "print(\"Image prefix of channel 637nm is \" + path2 + \"\\\\\" + image_prefix_red)"
   ]
  },
  {
   "cell_type": "code",
   "execution_count": 5,
   "metadata": {},
   "outputs": [],
   "source": [
    "# Tell the number of frames and ROIs you want to segment\n",
    "numFrames = 1;\n",
    "\n",
    "numROIs = 1;\n",
    "\n",
    "# If you want to get the coordinates of control cells(normal cells) instead of MN cells\n",
    "taggingCtrlCells = False;\n",
    "\n",
    "# If you are going to save the results \n",
    "save_results = True\n",
    "\n",
    "# Defines the interval between frames for segmentation, e.g. if you want every 6 frames change to 6, if you want each frame do 1\n",
    "frame_interval = 1\n"
   ]
  },
  {
   "cell_type": "code",
   "execution_count": null,
   "metadata": {},
   "outputs": [
    {
     "name": "stdout",
     "output_type": "stream",
     "text": [
      "range(0, 1)\n",
      "0\n",
      "[Info] Phenotype_1h_30R_2000ms_frame00000_ROI0.tif is generated!\n",
      "Segmenting ... Phenotype_1h_30R_2000ms_frame00000_ROI0.tif\n",
      "   4046 cells found.\n",
      "Segmenting frame-00000 took 20 seconds.\n"
     ]
    }
   ],
   "source": [
    "para = 1;\n",
    "if taggingCtrlCells:\n",
    "    para = 0.1;\n",
    "\n",
    "ROIs = range(0, numROIs, 1)\n",
    "\n",
    "frame = 0\n",
    "print(ROIs)\n",
    "print(frame)\n",
    "while frame < numFrames: \n",
    "# for frame in frames:\n",
    "    \n",
    "    t = time.time()\n",
    "    \n",
    "    for ROI in ROIs:        \n",
    "\n",
    "        # Below here is the check to see if the number of ROI's are there that you want to generate\n",
    "        if number_digits_ROIs_red > 1:\n",
    "            imgName = (image_prefix_red + \"%05d_ROI%03d.tif\" % (frame, ROI))\n",
    "        else:\n",
    "            imgName = (image_prefix_red + \"%05d_ROI%01d.tif\" % (frame, ROI))\n",
    "        \n",
    "\n",
    "        imgName2 = (path2+'\\\\'+imgName)\n",
    "        \n",
    "        isImgExist = os.path.exists(imgName2)\n",
    "        \n",
    "        while not isImgExist:            \n",
    "            time.sleep(10)\n",
    "            print('[Info] ' + imgName +' not generated yet ...')\n",
    "            isImgExist = os.path.exists(imgName2)\n",
    "        \n",
    "        print('[Info] ' + imgName +' is generated!'); time.sleep(1)\n",
    "        img = image.imread(path2+'\\\\'+imgName)\n",
    "        \n",
    "        #filterSize = (100, 100)\n",
    "        #kernel = cv2.getStructuringElement(cv2.MORPH_RECT, filterSize)        \n",
    "        #img = cv2.morphologyEx(img, cv2.MORPH_TOPHAT, kernel)\n",
    "\n",
    "        \n",
    "        img = normalize(img, 1, 99.8, axis=(0, 1))\n",
    "        \n",
    "        \n",
    "        #img = cv2.GaussianBlur(img, (3, 3), -1)\n",
    "                \n",
    "        \n",
    "        print('Segmenting ... ' + imgName)\n",
    "        imgHeight, imgWidth = img.shape; \n",
    "        \n",
    "        #creates the image called labels and polys\n",
    "        labels, polys = model.predict_instances(img, prob_thresh = 0.15*para)\n",
    "        \n",
    "        #labels = np.maximum(labels_tmp + np.max(labels), labels)\n",
    "        \n",
    "        # 99.5 for DDR\n",
    "        # 99.8 for rest     \n",
    "        centers = polys[\"points\"] #[y, x]\n",
    "        centers2 = centers[:,0]*imgWidth + centers[:,1]  \n",
    "        print('   %d cells found.' % centers2.shape[0])\n",
    "        imsave(path4 + \"\\\\\" + imgName, labels.astype(np.uint16))\n",
    "\n",
    "        #saves the cell center coordinates into a csv\n",
    "        np.savetxt(path5 +\"\\\\\" + image_prefix_red + \"%05d_ROI%01d.csv\" % (frame, ROI), centers, delimiter=\",\")\n",
    "        \n",
    "\n",
    "#        np.savetxt(path3 + '\\\\' + image_prefix + \"%05d_ROI%01d.csv\" % (frame, ROI), centers2, delimiter=\",\")        \n",
    "#         np.savetxt(path3 + '\\\\test_' + imgPrefix + \"%05d_ROI%01d.csv\" % (frame, ROI), centers, delimiter=\",\")\n",
    "        \n",
    "    elapsed = time.time() - t; print('Segmenting frame-%05d took %d seconds.' % (frame, elapsed))\n",
    "        \n",
    "    frame += frame_interval; "
   ]
  },
  {
   "cell_type": "code",
   "execution_count": 11,
   "metadata": {},
   "outputs": [
    {
     "data": {
      "image/png": "[encoded data removed]",
      "text/plain": [
       "<Figure size 500x500 with 1 Axes>"
      ]
     },
     "metadata": {},
     "output_type": "display_data"
    }
   ],
   "source": [
    "import numpy as np\n",
    "import matplotlib.pyplot as plt\n",
    "from skimage.io import imshow\n",
    "\n",
    "# Example image (grayscale) - replace this with your actual image\n",
    "img = np.zeros((100, 100))  # 100x100 black image\n",
    "\n",
    "# Example polygon (list of (x, y) coordinates)\n",
    "poly = [(30, 40), (40, 50), (50, 45), (45, 35), (35, 30)]\n",
    "\n",
    "# Convert polygon to separate x and y lists\n",
    "x_coords, y_coords = zip(*poly)\n",
    "\n",
    "# Plot the image\n",
    "plt.figure(figsize=(5, 5))\n",
    "imshow(img, cmap=\"gray\")\n",
    "\n",
    "# Plot the polygon\n",
    "plt.plot(x_coords, y_coords, marker=\"o\", linestyle=\"-\", color=\"red\", linewidth=2, markersize=5)\n",
    "\n",
    "# Connect the last point back to the first to close the polygon\n",
    "plt.plot([x_coords[-1], x_coords[0]], [y_coords[-1], y_coords[0]], color=\"red\", linewidth=2)\n",
    "\n",
    "# Show the plot\n",
    "plt.title(\"Example Polygon Overlay\")\n",
    "plt.show()\n"
   ]
  },
  {
   "cell_type": "markdown",
   "metadata": {},
   "source": [
    "## TYC66 try"
   ]
  },
  {
   "cell_type": "code",
   "execution_count": 11,
   "metadata": {},
   "outputs": [
    {
     "name": "stdout",
     "output_type": "stream",
     "text": [
      "Image path of WhiteLight channel is \\\\store\\department\\gene\\chien_data\\Lab\\Data_and_Analysis\\Tsai-Ying_Chen\\TYC066_EC546_TILs_48hr_20250301\\48hr_record_20250301at111238\\WhiteLight\n",
      "Image prefix of WhiteLight channel is \\\\store\\department\\gene\\chien_data\\Lab\\Data_and_Analysis\\Tsai-Ying_Chen\\TYC066_EC546_TILs_48hr_20250301\\48hr_record_20250301at111238\\WhiteLight\\48hr_record_WL_1ms_WhiteLight_frame\n",
      "\n",
      "Image path of 532nm channel is \\\\store\\department\\gene\\chien_data\\Lab\\Data_and_Analysis\\Tsai-Ying_Chen\\TYC066_EC546_TILs_48hr_20250301\\48hr_record_20250301at111238\\532nm\n",
      "Image prefix of 532nm channel is \\\\store\\department\\gene\\chien_data\\Lab\\Data_and_Analysis\\Tsai-Ying_Chen\\TYC066_EC546_TILs_48hr_20250301\\48hr_record_20250301at111238\\532nm\\48hr_record_60G_2500ms_frame\n",
      "\n",
      "range(0, 1)\n",
      "0\n",
      "Segmenting ... 48hr_record_WL_1ms_WhiteLight_frame00000_ROI33.tif\n",
      "   5417 cells found.\n",
      "Segmenting ... 48hr_record_60G_2500ms_frame00000_ROI33.tif\n",
      "   843 cells found.\n",
      "Segmenting frame-00000 took 46 seconds.\n"
     ]
    },
    {
     "ename": "NameError",
     "evalue": "name 'frame_interval' is not defined",
     "output_type": "error",
     "traceback": [
      "\u001b[1;31m---------------------------------------------------------------------------\u001b[0m",
      "\u001b[1;31mNameError\u001b[0m                                 Traceback (most recent call last)",
      "\u001b[1;32m~\\AppData\\Local\\Temp\\ipykernel_19536\\3221018594.py\u001b[0m in \u001b[0;36m<module>\u001b[1;34m\u001b[0m\n\u001b[0;32m    118\u001b[0m     \u001b[0melapsed\u001b[0m \u001b[1;33m=\u001b[0m \u001b[0mtime\u001b[0m\u001b[1;33m.\u001b[0m\u001b[0mtime\u001b[0m\u001b[1;33m(\u001b[0m\u001b[1;33m)\u001b[0m \u001b[1;33m-\u001b[0m \u001b[0mt\u001b[0m\u001b[1;33m;\u001b[0m \u001b[0mprint\u001b[0m\u001b[1;33m(\u001b[0m\u001b[1;34m'Segmenting frame-%05d took %d seconds.'\u001b[0m \u001b[1;33m%\u001b[0m \u001b[1;33m(\u001b[0m\u001b[0mframe\u001b[0m\u001b[1;33m,\u001b[0m \u001b[0melapsed\u001b[0m\u001b[1;33m)\u001b[0m\u001b[1;33m)\u001b[0m\u001b[1;33m\u001b[0m\u001b[1;33m\u001b[0m\u001b[0m\n\u001b[0;32m    119\u001b[0m \u001b[1;33m\u001b[0m\u001b[0m\n\u001b[1;32m--> 120\u001b[1;33m     \u001b[0mframe\u001b[0m \u001b[1;33m+=\u001b[0m \u001b[0mframe_interval\u001b[0m\u001b[1;33m;\u001b[0m\u001b[1;33m\u001b[0m\u001b[1;33m\u001b[0m\u001b[0m\n\u001b[0m",
      "\u001b[1;31mNameError\u001b[0m: name 'frame_interval' is not defined"
     ]
    }
   ],
   "source": [
    "path = r'\\\\store\\department\\gene\\chien_data\\Lab\\Data_and_Analysis\\Tsai-Ying_Chen\\TYC066_EC546_TILs_48hr_20250301\\48hr_record_20250301at111238'\n",
    "\n",
    "WL = True\n",
    "multi_WL = False\n",
    "\n",
    "Green = True\n",
    "\n",
    "def extract_image_prefix(path, channel_name):\n",
    "    # Get list of all .tif files in the directory\n",
    "    path_channel = path + f\"\\\\{channel_name}\"\n",
    "    timelaps_path_list = glob.glob(path_channel + \"\\\\*.tif\")\n",
    "\n",
    "    # Extract the frame ROI name from the first image in the list\n",
    "    frame_roi_name = timelaps_path_list[0].split(path_channel)\n",
    "    frame_roi_name = frame_roi_name[1]\n",
    "    frame_roi_name = frame_roi_name.split(\"\\\\\")\n",
    "    frame_roi_name = frame_roi_name[1]\n",
    "    \n",
    "    # Extract the ROI number from the frame name\n",
    "    roi_number = frame_roi_name.split('.')\n",
    "    roi_number = roi_number[0]\n",
    "    roi_number = roi_number.split(\"ROI\")\n",
    "    roi_number = roi_number[1]\n",
    "\n",
    "    # Count the number of digits in the ROI number\n",
    "    number_digits_rois = len(roi_number)\n",
    "\n",
    "    # Extract the frame number (before the word 'frame')\n",
    "    frame_number = frame_roi_name.split(\"frame\")\n",
    "    frame_number = frame_number[0] + \"frame\"\n",
    "    image_prefix = frame_number\n",
    "\n",
    "    # Print the result\n",
    "    print(f\"Image path of {channel_name} channel is {path_channel}\")\n",
    "    print(f\"Image prefix of {channel_name} channel is {path_channel}\\\\{image_prefix}\\n\")\n",
    "\n",
    "    return path_channel, image_prefix, roi_number, number_digits_rois\n",
    "\n",
    "if WL:\n",
    "    path_WL, image_prefix_WL, roi_number_WL, number_digits_rois_WL = extract_image_prefix(path, \"WhiteLight\")\n",
    "if Green:\n",
    "    path_532, image_prefix_GR, roi_number_GR, number_digits_rois_GR = extract_image_prefix(path, \"532nm\")\n",
    "\n",
    "numFrames = 1\n",
    "\n",
    "numROIs = 1\n",
    "\n",
    "\n",
    "para = 1\n",
    "\n",
    "ROIs = range(0, numROIs, 1)\n",
    "\n",
    "frame = 0\n",
    "print(ROIs)\n",
    "print(frame)\n",
    "while frame < numFrames: \n",
    "# for frame in frames:\n",
    "    \n",
    "    t = time.time()\n",
    "    \n",
    "    for ROI in ROIs:        \n",
    "        ROI = 33\n",
    "\n",
    "        imgName_WL = (image_prefix_WL + \"%05d_ROI%01d.tif\" % (frame, ROI))\n",
    "        imgName_GR = (image_prefix_GR + \"%05d_ROI%01d.tif\" % (frame, ROI))\n",
    "        \n",
    "        img_WL = image.imread(path_WL+'\\\\'+imgName_WL)\n",
    "        img_GR = image.imread(path_532+'\\\\'+imgName_GR)\n",
    "        \n",
    "        img_WL = normalize(img_WL, 1, 99.8, axis=(0, 1))\n",
    "        img_GR = normalize(img_GR, 1, 99.8, axis=(0, 1))\n",
    "        \n",
    "        print('Segmenting ... ' + imgName_WL)\n",
    "        imgHeight, imgWidth = img_WL.shape; \n",
    "        \n",
    "        #creates the image called labels and polys\n",
    "        labels, polys = model.predict_instances(img_WL, prob_thresh = 0.15*para)\n",
    "\n",
    "        centers = polys[\"points\"] #[y, x]\n",
    "        centers2 = centers[:,0]*imgWidth + centers[:,1]\n",
    "        \n",
    "        path_WL_save_img = path + '\\\\WhiteLight_segm_img_stardist'\n",
    "        if not os.path.isdir(path_WL_save_img):\n",
    "            os.mkdir(path_WL_save_img)\n",
    "        print('   %d cells found.' % centers2.shape[0])\n",
    "        imwrite(path_WL_save_img + \"\\\\\" + imgName_WL, labels.astype(np.uint16))\n",
    "\n",
    "        path_WL_save_csv = path + '\\\\WhiteLight_segm_img_stardist_csv'\n",
    "        if not os.path.isdir(path_WL_save_csv):\n",
    "            os.mkdir(path_WL_save_csv)\n",
    "        #saves the cell center coordinates into a csv\n",
    "        np.savetxt(path_WL_save_csv +\"\\\\\" + image_prefix_WL + \"%05d_ROI%01d.csv\" % (frame, ROI), centers, delimiter=\",\")\n",
    "\n",
    "        #segmenting GR\n",
    "        #\n",
    "        print('Segmenting ... ' + imgName_GR)\n",
    "        imgHeight, imgWidth = img_GR.shape; \n",
    "        \n",
    "        #creates the image called labels and polys\n",
    "        labels, polys = model.predict_instances(img_GR, prob_thresh = 0.15*para)\n",
    "\n",
    "        centers = polys[\"points\"] #[y, x]\n",
    "        centers2 = centers[:,0]*imgWidth + centers[:,1]\n",
    "        \n",
    "        path_GR_save_img = path + '\\\\532nm_segm_img_stardist'\n",
    "        if not os.path.isdir(path_GR_save_img):\n",
    "            os.mkdir(path_GR_save_img)\n",
    "        print('   %d cells found.' % centers2.shape[0])\n",
    "        imwrite(path_GR_save_img + \"\\\\\" + imgName_GR, labels.astype(np.uint16))\n",
    "\n",
    "        path_GR_save_csv = path + '\\\\532nm_segm_img_stardist_csv'\n",
    "        if not os.path.isdir(path_GR_save_csv):\n",
    "            os.mkdir(path_GR_save_csv)\n",
    "        #saves the cell center coordinates into a csv\n",
    "        np.savetxt(path_GR_save_csv +\"\\\\\" + image_prefix_GR + \"%05d_ROI%01d.csv\" % (frame, ROI), centers, delimiter=\",\")\n",
    "        \n",
    "        \n",
    "    elapsed = time.time() - t; print('Segmenting frame-%05d took %d seconds.' % (frame, elapsed))\n",
    "        \n",
    "    frame += frame_interval; \n"
   ]
  },
  {
   "cell_type": "code",
   "execution_count": null,
   "metadata": {},
   "outputs": [],
   "source": []
  }
 ],
 "metadata": {
  "kernelspec": {
   "display_name": "csbdeep",
   "language": "python",
   "name": "python3"
  },
  "language_info": {
   "codemirror_mode": {
    "name": "ipython",
    "version": 3
   },
   "file_extension": ".py",
   "mimetype": "text/x-python",
   "name": "python",
   "nbconvert_exporter": "python",
   "pygments_lexer": "ipython3",
   "version": "3.7.1"
  }
 },
 "nbformat": 4,
 "nbformat_minor": 2
}
